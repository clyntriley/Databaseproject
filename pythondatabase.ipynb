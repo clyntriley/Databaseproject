{
    "metadata": {
        "kernelspec": {
            "name": "python3",
            "display_name": "Python 3 (ipykernel)",
            "language": "python"
        },
        "language_info": {
            "name": "python",
            "version": "3.8.1",
            "mimetype": "text/x-python",
            "codemirror_mode": {
                "name": "ipython",
                "version": 3
            },
            "pygments_lexer": "ipython3",
            "nbconvert_exporter": "python",
            "file_extension": ".py"
        },
        "extensions": {
            "azuredatastudio": {
                "version": 1,
                "views": []
            }
        }
    },
    "nbformat_minor": 2,
    "nbformat": 4,
    "cells": [
        {
            "cell_type": "markdown",
            "source": [
                "SQL"
            ],
            "metadata": {
                "azdata_cell_guid": "695dd055-973a-4c00-987f-0ca907a5cba8"
            },
            "attachments": {}
        },
        {
            "cell_type": "code",
            "source": [
                "import pandas as pd\r\n",
                "\r\n",
                "data = pd.read_csv(r'C:\\Tables\\ammo_table.csv')\r\n",
                "print(data)\r\n",
                ""
            ],
            "metadata": {
                "azdata_cell_guid": "ff595b51-5d5e-4615-8e5e-5954b3bd8bef",
                "tags": []
            },
            "outputs": [
                {
                    "name": "stdout",
                    "text": "              0.12 Patch  Weight (KG)  Rub price  Damage  Accuracy (%)  \\\n0       12.7x108 mm B-32        0.133      820.0   182.0           0.0   \n1    12.7x108 mm BZT-44M        0.128      980.0   199.0           0.0   \n2                    NaN          NaN        NaN     NaN           NaN   \n3        12.7x55 mm PS12        0.070      340.0   115.0           0.0   \n4       12.7x55 mm PS12A        0.044      280.0   155.0         -15.0   \n..                   ...          ...        ...     ...           ...   \n121                  NaN          NaN        NaN     NaN           NaN   \n122      9x39 mm 7N12 BP        0.023      302.0    60.0          15.0   \n123         9x39 mm SP-5        0.023      160.0    68.0           0.0   \n124         9x39 mm SP-6        0.023      215.0    58.0           0.0   \n125      9x39 mm 7N9 SPP        0.023      289.0    67.0          10.0   \n\n     Recoil (%)  Penetration Value  Projectile Count  Projectile Speed (m/s)  \\\n0           0.0               88.0               1.0                   818.0   \n1           0.0               80.0               1.0                   818.0   \n2           NaN                NaN               NaN                     NaN   \n3           0.0               25.0               1.0                   285.0   \n4           7.0                8.0               1.0                   290.0   \n..          ...                ...               ...                     ...   \n121         NaN                NaN               NaN                     NaN   \n122         3.0               44.0               1.0                   295.0   \n123         0.0               30.0               1.0                   290.0   \n124         0.0               38.0               1.0                   305.0   \n125         5.0               38.0               1.0                   310.0   \n\n     Penetration Chance  Ricochet Chance  Fragmentation Chance  \\\n0                  0.75             0.38                  0.17   \n1                  0.75             0.38                  0.17   \n2                   NaN              NaN                   NaN   \n3                  0.60             0.40                  0.30   \n4                  0.10             0.20                  0.70   \n..                  ...              ...                   ...   \n121                 NaN              NaN                   NaN   \n122                0.75             0.50                  0.10   \n123                0.60             0.40                  0.20   \n124                0.70             0.50                  0.10   \n125                0.60             0.40                  0.20   \n\n     Armor Damage (%)  Unnamed: 13 Unnamed: 14  \n0                88.0          NaN         NaN  \n1                95.0          NaN         NaN  \n2                 NaN          NaN         NaN  \n3                60.0          NaN         NaN  \n4                17.0          NaN         NaN  \n..                ...          ...         ...  \n121               NaN          NaN         NaN  \n122              68.0          NaN         NaN  \n123              52.0          NaN         NaN  \n124              60.0          NaN         NaN  \n125              56.0          NaN         NaN  \n\n[126 rows x 15 columns]\n",
                    "output_type": "stream"
                }
            ],
            "execution_count": 25
        },
        {
            "cell_type": "markdown",
            "source": [
                "Where in python"
            ],
            "metadata": {
                "azdata_cell_guid": "bdeb230f-72ef-4948-93f6-1e5c4f0db040"
            },
            "attachments": {}
        },
        {
            "cell_type": "code",
            "source": [
                "data[data['Damage'] <= 40 ]\r\n",
                "    "
            ],
            "metadata": {
                "azdata_cell_guid": "ba11621b-5678-4e22-b944-ffa9fb30af21"
            },
            "outputs": [
                {
                    "data": {
                        "text/plain": "                         0.12 Patch  Weight (KG)  Rub price  Damage  \\\n7                12/70 7mm Buckshot        0.050       30.0    32.0   \n8             12/70 5.25mm Buckshot        0.044       35.0    17.0   \n9   12/70 6.5 mm \"Express\" Buckshot        0.048       39.0    29.0   \n10   12/70 8.5 mm \"Magnum\" Buckshot        0.059       50.0    22.0   \n12                  12/70 Flechette        0.040       75.0    19.0   \n24             20/70 7.5mm Buckshot        0.040       24.0    20.0   \n25             20/70 5.6mm Buckshot        0.028       20.0    11.0   \n26             20/70 6.2mm Buckshot        0.032       30.0    14.0   \n27             20/70 7.3mm Buckshot        0.032       38.0    22.0   \n38                   4.6x30mm AP SX        0.007      255.0    35.0   \n42        5.45x39 mm 7N39 \"Igolnik\"        0.011      562.0    37.0   \n44                    5.45x39 mm BS        0.010      380.0    40.0   \n\n    Accuracy (%)  Recoil (%)  Penetration Value  Projectile Count  \\\n7            0.0         0.0                3.0               8.0   \n8            0.0         0.0                1.0              15.0   \n9           15.0         0.0                3.0               9.0   \n10         -15.0       115.0                2.0              16.0   \n12         -25.0         0.0               28.0               8.0   \n24           0.0         0.0                3.0               8.0   \n25           0.0         0.0                1.0              15.0   \n26           0.0         0.0                2.0              12.0   \n27           0.0        15.0                3.0               9.0   \n38           0.0         0.0               47.0               1.0   \n42           0.0        15.0               62.0               1.0   \n44           0.0         0.0               50.0               1.0   \n\n    Projectile Speed (m/s)  Penetration Chance  Ricochet Chance  \\\n7                    415.0                0.02             0.00   \n8                    330.0                0.02             0.00   \n9                    430.0                0.02             0.00   \n10                   385.0                0.05             0.00   \n12                   320.0                0.30             0.00   \n24                   430.0                0.02             0.00   \n25                   340.0                0.02             0.00   \n26                   410.0                0.02             0.00   \n27                   475.0                0.02             0.00   \n38                   680.0                0.60             0.60   \n42                   905.0                0.80             0.38   \n44                   830.0                0.75             0.38   \n\n    Fragmentation Chance  Armor Damage (%)  Unnamed: 13 Unnamed: 14  \n7                   0.00              26.0          NaN         NaN  \n8                   0.00              15.0          NaN         NaN  \n9                   0.00              26.0          NaN         NaN  \n10                  0.00              26.0          NaN         NaN  \n12                  0.00              26.0          NaN         NaN  \n24                  0.00              14.0          NaN         NaN  \n25                  0.00              12.0          NaN         NaN  \n26                  0.00              13.0          NaN         NaN  \n27                  0.00              13.0          NaN         NaN  \n38                  0.10              46.0          NaN         NaN  \n42                  0.02              60.0          NaN         NaN  \n44                  0.17              57.0          NaN         NaN  ",
                        "text/html": "<div>\n<style scoped>\n    .dataframe tbody tr th:only-of-type {\n        vertical-align: middle;\n    }\n\n    .dataframe tbody tr th {\n        vertical-align: top;\n    }\n\n    .dataframe thead th {\n        text-align: right;\n    }\n</style>\n<table border=\"1\" class=\"dataframe\">\n  <thead>\n    <tr style=\"text-align: right;\">\n      <th></th>\n      <th>0.12 Patch</th>\n      <th>Weight (KG)</th>\n      <th>Rub price</th>\n      <th>Damage</th>\n      <th>Accuracy (%)</th>\n      <th>Recoil (%)</th>\n      <th>Penetration Value</th>\n      <th>Projectile Count</th>\n      <th>Projectile Speed (m/s)</th>\n      <th>Penetration Chance</th>\n      <th>Ricochet Chance</th>\n      <th>Fragmentation Chance</th>\n      <th>Armor Damage (%)</th>\n      <th>Unnamed: 13</th>\n      <th>Unnamed: 14</th>\n    </tr>\n  </thead>\n  <tbody>\n    <tr>\n      <th>7</th>\n      <td>12/70 7mm Buckshot</td>\n      <td>0.050</td>\n      <td>30.0</td>\n      <td>32.0</td>\n      <td>0.0</td>\n      <td>0.0</td>\n      <td>3.0</td>\n      <td>8.0</td>\n      <td>415.0</td>\n      <td>0.02</td>\n      <td>0.00</td>\n      <td>0.00</td>\n      <td>26.0</td>\n      <td>NaN</td>\n      <td>NaN</td>\n    </tr>\n    <tr>\n      <th>8</th>\n      <td>12/70 5.25mm Buckshot</td>\n      <td>0.044</td>\n      <td>35.0</td>\n      <td>17.0</td>\n      <td>0.0</td>\n      <td>0.0</td>\n      <td>1.0</td>\n      <td>15.0</td>\n      <td>330.0</td>\n      <td>0.02</td>\n      <td>0.00</td>\n      <td>0.00</td>\n      <td>15.0</td>\n      <td>NaN</td>\n      <td>NaN</td>\n    </tr>\n    <tr>\n      <th>9</th>\n      <td>12/70 6.5 mm \"Express\" Buckshot</td>\n      <td>0.048</td>\n      <td>39.0</td>\n      <td>29.0</td>\n      <td>15.0</td>\n      <td>0.0</td>\n      <td>3.0</td>\n      <td>9.0</td>\n      <td>430.0</td>\n      <td>0.02</td>\n      <td>0.00</td>\n      <td>0.00</td>\n      <td>26.0</td>\n      <td>NaN</td>\n      <td>NaN</td>\n    </tr>\n    <tr>\n      <th>10</th>\n      <td>12/70 8.5 mm \"Magnum\" Buckshot</td>\n      <td>0.059</td>\n      <td>50.0</td>\n      <td>22.0</td>\n      <td>-15.0</td>\n      <td>115.0</td>\n      <td>2.0</td>\n      <td>16.0</td>\n      <td>385.0</td>\n      <td>0.05</td>\n      <td>0.00</td>\n      <td>0.00</td>\n      <td>26.0</td>\n      <td>NaN</td>\n      <td>NaN</td>\n    </tr>\n    <tr>\n      <th>12</th>\n      <td>12/70 Flechette</td>\n      <td>0.040</td>\n      <td>75.0</td>\n      <td>19.0</td>\n      <td>-25.0</td>\n      <td>0.0</td>\n      <td>28.0</td>\n      <td>8.0</td>\n      <td>320.0</td>\n      <td>0.30</td>\n      <td>0.00</td>\n      <td>0.00</td>\n      <td>26.0</td>\n      <td>NaN</td>\n      <td>NaN</td>\n    </tr>\n    <tr>\n      <th>24</th>\n      <td>20/70 7.5mm Buckshot</td>\n      <td>0.040</td>\n      <td>24.0</td>\n      <td>20.0</td>\n      <td>0.0</td>\n      <td>0.0</td>\n      <td>3.0</td>\n      <td>8.0</td>\n      <td>430.0</td>\n      <td>0.02</td>\n      <td>0.00</td>\n      <td>0.00</td>\n      <td>14.0</td>\n      <td>NaN</td>\n      <td>NaN</td>\n    </tr>\n    <tr>\n      <th>25</th>\n      <td>20/70 5.6mm Buckshot</td>\n      <td>0.028</td>\n      <td>20.0</td>\n      <td>11.0</td>\n      <td>0.0</td>\n      <td>0.0</td>\n      <td>1.0</td>\n      <td>15.0</td>\n      <td>340.0</td>\n      <td>0.02</td>\n      <td>0.00</td>\n      <td>0.00</td>\n      <td>12.0</td>\n      <td>NaN</td>\n      <td>NaN</td>\n    </tr>\n    <tr>\n      <th>26</th>\n      <td>20/70 6.2mm Buckshot</td>\n      <td>0.032</td>\n      <td>30.0</td>\n      <td>14.0</td>\n      <td>0.0</td>\n      <td>0.0</td>\n      <td>2.0</td>\n      <td>12.0</td>\n      <td>410.0</td>\n      <td>0.02</td>\n      <td>0.00</td>\n      <td>0.00</td>\n      <td>13.0</td>\n      <td>NaN</td>\n      <td>NaN</td>\n    </tr>\n    <tr>\n      <th>27</th>\n      <td>20/70 7.3mm Buckshot</td>\n      <td>0.032</td>\n      <td>38.0</td>\n      <td>22.0</td>\n      <td>0.0</td>\n      <td>15.0</td>\n      <td>3.0</td>\n      <td>9.0</td>\n      <td>475.0</td>\n      <td>0.02</td>\n      <td>0.00</td>\n      <td>0.00</td>\n      <td>13.0</td>\n      <td>NaN</td>\n      <td>NaN</td>\n    </tr>\n    <tr>\n      <th>38</th>\n      <td>4.6x30mm AP SX</td>\n      <td>0.007</td>\n      <td>255.0</td>\n      <td>35.0</td>\n      <td>0.0</td>\n      <td>0.0</td>\n      <td>47.0</td>\n      <td>1.0</td>\n      <td>680.0</td>\n      <td>0.60</td>\n      <td>0.60</td>\n      <td>0.10</td>\n      <td>46.0</td>\n      <td>NaN</td>\n      <td>NaN</td>\n    </tr>\n    <tr>\n      <th>42</th>\n      <td>5.45x39 mm 7N39 \"Igolnik\"</td>\n      <td>0.011</td>\n      <td>562.0</td>\n      <td>37.0</td>\n      <td>0.0</td>\n      <td>15.0</td>\n      <td>62.0</td>\n      <td>1.0</td>\n      <td>905.0</td>\n      <td>0.80</td>\n      <td>0.38</td>\n      <td>0.02</td>\n      <td>60.0</td>\n      <td>NaN</td>\n      <td>NaN</td>\n    </tr>\n    <tr>\n      <th>44</th>\n      <td>5.45x39 mm BS</td>\n      <td>0.010</td>\n      <td>380.0</td>\n      <td>40.0</td>\n      <td>0.0</td>\n      <td>0.0</td>\n      <td>50.0</td>\n      <td>1.0</td>\n      <td>830.0</td>\n      <td>0.75</td>\n      <td>0.38</td>\n      <td>0.17</td>\n      <td>57.0</td>\n      <td>NaN</td>\n      <td>NaN</td>\n    </tr>\n  </tbody>\n</table>\n</div>"
                    },
                    "metadata": {},
                    "execution_count": 42,
                    "output_type": "execute_result"
                }
            ],
            "execution_count": 42
        },
        {
            "cell_type": "markdown",
            "source": [
                "Group by in python"
            ],
            "metadata": {
                "azdata_cell_guid": "e192fa7b-7263-433c-ba1e-064ea964482c"
            },
            "attachments": {}
        },
        {
            "cell_type": "code",
            "source": [
                "data.groupby(\"Damage\").size()"
            ],
            "metadata": {
                "azdata_cell_guid": "90c8aeca-aaaa-4a45-bfbb-e83df7ac5366"
            },
            "outputs": [
                {
                    "data": {
                        "text/plain": "Damage\n11.0     1\n14.0     1\n17.0     1\n19.0     1\n20.0     1\n        ..\n182.0    1\n188.0    1\n190.0    1\n199.0    1\n235.0    1\nLength: 68, dtype: int64"
                    },
                    "metadata": {},
                    "execution_count": 45,
                    "output_type": "execute_result"
                }
            ],
            "execution_count": 45
        },
        {
            "cell_type": "markdown",
            "source": [
                ""
            ],
            "metadata": {
                "azdata_cell_guid": "09507756-209a-450b-a9dc-62f60498748a"
            }
        }
    ]
}